{
 "cells": [
  {
   "cell_type": "code",
   "execution_count": 14,
   "id": "08f37010",
   "metadata": {},
   "outputs": [],
   "source": [
    "import pandas as pd\n",
    "\n",
    "# Read the dataset\n",
    "data = pd.read_csv(\"conversion.csv\")"
   ]
  },
  {
   "cell_type": "markdown",
   "id": "c4bd68cf",
   "metadata": {},
   "source": [
    "Dimension Table - Camera"
   ]
  },
  {
   "cell_type": "code",
   "execution_count": 15,
   "id": "67f72539",
   "metadata": {},
   "outputs": [
    {
     "name": "stdout",
     "output_type": "stream",
     "text": [
      "   CameraID  pc  fc\n",
      "0     10001  16  14\n",
      "1     10002  12   4\n",
      "2     10003   4   1\n",
      "3     10004  20  18\n",
      "4     10005  18  11\n"
     ]
    }
   ],
   "source": [
    "CameraIDs = [10000 + i for i in range(1, len(data) + 1)]\n",
    "\n",
    "# Creating the Camera Dimension Table\n",
    "Camera = pd.DataFrame({\n",
    "    'CameraID': CameraIDs,\n",
    "    'pc': data['pc'],\n",
    "    'fc': data['fc']\n",
    "})\n",
    "\n",
    "# Display the first few rows of the Camera Dimension Table\n",
    "print(Camera.head())"
   ]
  },
  {
   "cell_type": "code",
   "execution_count": 16,
   "id": "d1693708",
   "metadata": {},
   "outputs": [],
   "source": [
    "# Save the DataFrame to a CSV file\n",
    "Camera.to_csv(\"C:/Users/user/Dropbox/PC/Downloads/UM_Assignment/Data Mining Lab/Assignment/Feature_Engineering/camera.csv\", index=False)"
   ]
  },
  {
   "cell_type": "markdown",
   "id": "15309f7a",
   "metadata": {},
   "source": [
    "Dimension Table - Screen"
   ]
  },
  {
   "cell_type": "code",
   "execution_count": 17,
   "id": "561ce1f3",
   "metadata": {},
   "outputs": [
    {
     "name": "stdout",
     "output_type": "stream",
     "text": [
      "   ScreenID  sc_h  sc_w  px_width  px_height\n",
      "0     20001    12     7      1412   226.0000\n",
      "1     20002     6     0       857   746.0000\n",
      "2     20003    17    10      1366  1270.0000\n",
      "3     20004    10     0      1752   295.0000\n",
      "4     20005    15     8       810   638.5933\n"
     ]
    }
   ],
   "source": [
    "ScreenIDs = [20000 + i for i in range(1, len(data) + 1)]\n",
    "\n",
    "# Creating the Screen Dimension Table\n",
    "Screen = pd.DataFrame({\n",
    "    'ScreenID': ScreenIDs,\n",
    "    'sc_h': data['sc_h'],\n",
    "    'sc_w': data['sc_w'],\n",
    "    'px_width': data['px_width'],\n",
    "    'px_height': data['px_height']\n",
    "})\n",
    "\n",
    "# Display the first few rows of the Screen Dimension Table\n",
    "print(Screen.head())"
   ]
  },
  {
   "cell_type": "code",
   "execution_count": 18,
   "id": "39e6c4c5",
   "metadata": {},
   "outputs": [],
   "source": [
    "# Save the DataFrame to a CSV file\n",
    "Screen.to_csv(\"C:/Users/user/Dropbox/PC/Downloads/UM_Assignment/Data Mining Lab/Assignment/Feature_Engineering/screen.csv\", index=False)"
   ]
  },
  {
   "cell_type": "markdown",
   "id": "66541db7",
   "metadata": {},
   "source": [
    "Dimension Table - Memory"
   ]
  },
  {
   "cell_type": "code",
   "execution_count": 19,
   "id": "9c73b672",
   "metadata": {},
   "outputs": [
    {
     "name": "stdout",
     "output_type": "stream",
     "text": [
      "   MemoryID   ram  int_memory\n",
      "0     30001  3476         5.0\n",
      "1     30002  3895        61.0\n",
      "2     30003  2396        27.0\n",
      "3     30004  3893        25.0\n",
      "4     30005  1773        49.0\n"
     ]
    }
   ],
   "source": [
    "MemoryIDs = [30000 + i for i in range(1, len(data) + 1)]\n",
    "\n",
    "# Creating the Memory Dimension Table\n",
    "Memory = pd.DataFrame({\n",
    "    'MemoryID': MemoryIDs,\n",
    "    'ram': data['ram'],\n",
    "    'int_memory': data['int_memory']\n",
    "})\n",
    "\n",
    "# Display the first few rows of the Memory Dimension Table\n",
    "print(Memory.head())"
   ]
  },
  {
   "cell_type": "code",
   "execution_count": 20,
   "id": "38743751",
   "metadata": {},
   "outputs": [],
   "source": [
    "# Save the DataFrame to a CSV file\n",
    "Memory.to_csv(\"C:/Users/user/Dropbox/PC/Downloads/UM_Assignment/Data Mining Lab/Assignment/Feature_Engineering/memory.csv\", index=False)"
   ]
  },
  {
   "cell_type": "markdown",
   "id": "abbf37ee",
   "metadata": {},
   "source": [
    "Dimension Table - TechSpec"
   ]
  },
  {
   "cell_type": "code",
   "execution_count": 21,
   "id": "972b2af2",
   "metadata": {},
   "outputs": [
    {
     "name": "stdout",
     "output_type": "stream",
     "text": [
      "   TechSpecID  mobile_wt  m_dep  battery_power  touch_screen  clock_speed  \\\n",
      "0       40001        193    0.1           1043          True          1.8   \n",
      "1       40002        191    0.8            841         False          0.5   \n",
      "2       40003        186    0.9           1807          True          2.8   \n",
      "3       40004         96    0.5           1546          True          0.5   \n",
      "4       40005        108    0.5           1434         False          1.4   \n",
      "\n",
      "   n_cores   wifi   blue  dual_sim  four_g  three_g  talk_time  \n",
      "0        3  False   True      True   False    False          2  \n",
      "1        5  False   True      True    True     True          7  \n",
      "2        3   True   True     False   False    False         10  \n",
      "3        8  False  False      True    True     True          7  \n",
      "4        6   True  False     False    True     True          7  \n"
     ]
    }
   ],
   "source": [
    "TechSpecIDs = [40000 + i for i in range(1, len(data) + 1)]\n",
    "\n",
    "# Creating the TechSpec Dimension Table\n",
    "TechSpec = pd.DataFrame({\n",
    "    'TechSpecID': TechSpecIDs,\n",
    "    'mobile_wt': data['mobile_wt'],\n",
    "    'm_dep': data['m_dep'],\n",
    "    'battery_power': data['battery_power'],\n",
    "    'touch_screen': data['touch_screen'],\n",
    "    'clock_speed': data['clock_speed'],\n",
    "    'n_cores': data['n_cores'],\n",
    "    'wifi': data['wifi'],\n",
    "    'blue': data['blue'],\n",
    "    'dual_sim': data['dual_sim'],\n",
    "    'four_g': data['four_g'],\n",
    "    'three_g': data['three_g'],\n",
    "    'talk_time': data['talk_time']\n",
    "})\n",
    "\n",
    "# Display the first few rows of the TechSpec Dimension Table\n",
    "print(TechSpec.head())"
   ]
  },
  {
   "cell_type": "code",
   "execution_count": 22,
   "id": "5e085383",
   "metadata": {},
   "outputs": [],
   "source": [
    "# Save the DataFrame to a CSV file\n",
    "TechSpec.to_csv(\"C:/Users/user/Dropbox/PC/Downloads/UM_Assignment/Data Mining Lab/Assignment/Feature_Engineering/techspec.csv\", index=False)"
   ]
  },
  {
   "cell_type": "markdown",
   "id": "5280b86f",
   "metadata": {},
   "source": [
    "Fact Table - Sales"
   ]
  },
  {
   "cell_type": "code",
   "execution_count": 23,
   "id": "7843b3bd",
   "metadata": {},
   "outputs": [
    {
     "name": "stdout",
     "output_type": "stream",
     "text": [
      "   SalesID       date  price_range  CameraID  ScreenID  MemoryID  TechSpecID\n",
      "0    50001  11/2/2022            2     10001     20001     30001       40001\n",
      "1    50002  11/2/2022            2     10002     20002     30002       40002\n",
      "2    50003  11/2/2022            2     10003     20003     30003       40003\n",
      "3    50004  11/2/2022            2     10004     20004     30004       40004\n",
      "4    50005  11/2/2022            2     10005     20005     30005       40005\n"
     ]
    }
   ],
   "source": [
    "SalesIDs = [50000 + i for i in range(1, len(data) + 1)]\n",
    "\n",
    "# Creating the Sales Fact Table\n",
    "Sales = pd.DataFrame({\n",
    "    'SalesID': SalesIDs,\n",
    "    'date': data['date'],\n",
    "    'price_range': data['price_range'],\n",
    "    'CameraID': CameraIDs,\n",
    "    'ScreenID': ScreenIDs,\n",
    "    'MemoryID': MemoryIDs,\n",
    "    'TechSpecID': TechSpecIDs\n",
    "})\n",
    "\n",
    "# Display the first few rows of the Sales Fact Table\n",
    "print(Sales.head())"
   ]
  },
  {
   "cell_type": "code",
   "execution_count": 24,
   "id": "f6d8b44c",
   "metadata": {},
   "outputs": [],
   "source": [
    "# Save the DataFrame to a CSV file\n",
    "Sales.to_csv(\"C:/Users/user/Dropbox/PC/Downloads/UM_Assignment/Data Mining Lab/Assignment/Feature_Engineering/sales.csv\", index=False)"
   ]
  }
 ],
 "metadata": {
  "kernelspec": {
   "display_name": "Python 3 (ipykernel)",
   "language": "python",
   "name": "python3"
  },
  "language_info": {
   "codemirror_mode": {
    "name": "ipython",
    "version": 3
   },
   "file_extension": ".py",
   "mimetype": "text/x-python",
   "name": "python",
   "nbconvert_exporter": "python",
   "pygments_lexer": "ipython3",
   "version": "3.10.11"
  }
 },
 "nbformat": 4,
 "nbformat_minor": 5
}
