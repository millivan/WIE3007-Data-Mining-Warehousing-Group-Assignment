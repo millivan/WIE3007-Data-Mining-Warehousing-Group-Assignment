{
 "cells": [
  {
   "cell_type": "code",
   "execution_count": 28,
   "id": "b6daff34",
   "metadata": {},
   "outputs": [
    {
     "name": "stdout",
     "output_type": "stream",
     "text": [
      "        date  battery_power blue  clock_speed dual_sim  fc four_g  int_memory  \\\n",
      "0  11/2/2022           1043  Yes          1.8      Yes  14     No           5   \n",
      "1  11/2/2022            841  Yes          0.5      Yes   4    Yes          61   \n",
      "2  11/2/2022           1807  Yes          2.8       No   1     No          27   \n",
      "3  11/2/2022           1546   No          0.5      Yes  18    Yes          25   \n",
      "4  11/2/2022           1434   No          1.4       No  11    Yes          49   \n",
      "\n",
      "   m_dep  mobile_wt  ...  px_height  px_width   ram  sc_h  sc_w  talk_time  \\\n",
      "0    0.1        193  ...        226      1412  3476    12     7          2   \n",
      "1    0.8        191  ...        746       857  3895     6     0          7   \n",
      "2    0.9        186  ...       1270      1366  2396    17    10         10   \n",
      "3    0.5         96  ...        295      1752  3893    10     0          7   \n",
      "4    0.5        108  ...        749       810  1773    15     8          7   \n",
      "\n",
      "   three_g  touch_screen wifi price_range  \n",
      "0       No           Yes   No           2  \n",
      "1      Yes            No   No           2  \n",
      "2       No           Yes  Yes           2  \n",
      "3      Yes           Yes   No           2  \n",
      "4      Yes            No  Yes           2  \n",
      "\n",
      "[5 rows x 22 columns]\n"
     ]
    }
   ],
   "source": [
    "import pandas as pd\n",
    "\n",
    "# Read the CSV file into a DataFrame\n",
    "df_1 = pd.read_csv(\"mobile_price_1.csv\")\n",
    "\n",
    "# Display the first few rows of the DataFrame\n",
    "print(df_1.head())"
   ]
  },
  {
   "cell_type": "code",
   "execution_count": 29,
   "id": "c81a02f1",
   "metadata": {
    "scrolled": false
   },
   "outputs": [
    {
     "data": {
      "text/plain": [
       "date              object\n",
       "battery_power      int64\n",
       "blue              object\n",
       "clock_speed      float64\n",
       "dual_sim          object\n",
       "fc                 int64\n",
       "four_g            object\n",
       "int_memory         int64\n",
       "m_dep            float64\n",
       "mobile_wt          int64\n",
       "n_cores            int64\n",
       "pc                 int64\n",
       "px_height          int64\n",
       "px_width           int64\n",
       "ram                int64\n",
       "sc_h               int64\n",
       "sc_w               int64\n",
       "talk_time          int64\n",
       "three_g           object\n",
       "touch_screen      object\n",
       "wifi              object\n",
       "price_range        int64\n",
       "dtype: object"
      ]
     },
     "execution_count": 29,
     "metadata": {},
     "output_type": "execute_result"
    }
   ],
   "source": [
    "df_1.dtypes"
   ]
  },
  {
   "cell_type": "code",
   "execution_count": 30,
   "id": "d8c9e9bc",
   "metadata": {},
   "outputs": [
    {
     "name": "stdout",
     "output_type": "stream",
     "text": [
      "       date  battery_power blue  clock_speed dual_sim  fc four_g  int_memory  \\\n",
      "0  1/3/2022            842   No          2.2       No   1     No           7   \n",
      "1  1/3/2022           1021  Yes          0.5      Yes   0    Yes          53   \n",
      "2  1/3/2022            563  Yes          0.5      Yes   2    Yes          41   \n",
      "3  1/3/2022            615  Yes          2.5       No   0     No          10   \n",
      "4  1/3/2022           1821  Yes          1.2       No  13    Yes          44   \n",
      "\n",
      "   m_dep  mobile_wt  ...  px_height  px_width   ram  sc_h  sc_w  talk_time  \\\n",
      "0    0.6        188  ...         20       756  2549     9     7         19   \n",
      "1    0.7        136  ...        905      1988  2631    17     3          7   \n",
      "2    0.9        145  ...       1263      1716  2603    11     2          9   \n",
      "3    0.8        131  ...       1216      1786  2769    16     8         11   \n",
      "4    0.6        141  ...       1208      1212  1411     8     2         15   \n",
      "\n",
      "   three_g  touch_screen wifi price_range  \n",
      "0       No            No  Yes           1  \n",
      "1      Yes           Yes   No           2  \n",
      "2      Yes           Yes   No           2  \n",
      "3      Yes            No   No           2  \n",
      "4      Yes           Yes   No           1  \n",
      "\n",
      "[5 rows x 22 columns]\n"
     ]
    }
   ],
   "source": [
    "# Read the CSV file into a DataFrame\n",
    "df_2 = pd.read_csv(\"mobile_price_2.csv\")\n",
    "\n",
    "# Display the first few rows of the DataFrame\n",
    "print(df_2.head())"
   ]
  },
  {
   "cell_type": "code",
   "execution_count": 31,
   "id": "59032006",
   "metadata": {},
   "outputs": [
    {
     "data": {
      "text/plain": [
       "date              object\n",
       "battery_power      int64\n",
       "blue              object\n",
       "clock_speed      float64\n",
       "dual_sim          object\n",
       "fc                 int64\n",
       "four_g            object\n",
       "int_memory         int64\n",
       "m_dep            float64\n",
       "mobile_wt          int64\n",
       "n_cores            int64\n",
       "pc                 int64\n",
       "px_height          int64\n",
       "px_width           int64\n",
       "ram                int64\n",
       "sc_h               int64\n",
       "sc_w               int64\n",
       "talk_time          int64\n",
       "three_g           object\n",
       "touch_screen      object\n",
       "wifi              object\n",
       "price_range        int64\n",
       "dtype: object"
      ]
     },
     "execution_count": 31,
     "metadata": {},
     "output_type": "execute_result"
    }
   ],
   "source": [
    "df_2.dtypes"
   ]
  },
  {
   "cell_type": "markdown",
   "id": "f5caf4f2",
   "metadata": {},
   "source": [
    "Convert the integer value to categorical value"
   ]
  },
  {
   "cell_type": "code",
   "execution_count": 32,
   "id": "20558378",
   "metadata": {},
   "outputs": [
    {
     "name": "stdout",
     "output_type": "stream",
     "text": [
      "        date  battery_power blue  clock_speed dual_sim  fc four_g  int_memory  \\\n",
      "0  11/2/2022           1043  Yes          1.8      Yes  14     No           5   \n",
      "1  11/2/2022            841  Yes          0.5      Yes   4    Yes          61   \n",
      "2  11/2/2022           1807  Yes          2.8       No   1     No          27   \n",
      "3  11/2/2022           1546   No          0.5      Yes  18    Yes          25   \n",
      "4  11/2/2022           1434   No          1.4       No  11    Yes          49   \n",
      "\n",
      "   m_dep  mobile_wt  ...  px_height  px_width   ram  sc_h  sc_w  talk_time  \\\n",
      "0    0.1        193  ...        226      1412  3476    12     7          2   \n",
      "1    0.8        191  ...        746       857  3895     6     0          7   \n",
      "2    0.9        186  ...       1270      1366  2396    17    10         10   \n",
      "3    0.5         96  ...        295      1752  3893    10     0          7   \n",
      "4    0.5        108  ...        749       810  1773    15     8          7   \n",
      "\n",
      "   three_g  touch_screen wifi price_range  \n",
      "0       No           Yes   No           2  \n",
      "1      Yes            No   No           2  \n",
      "2       No           Yes  Yes           2  \n",
      "3      Yes           Yes   No           2  \n",
      "4      Yes            No  Yes           2  \n",
      "\n",
      "[5 rows x 22 columns]\n"
     ]
    }
   ],
   "source": [
    "# Columns that need to be changed\n",
    "columns_to_change = [\"blue\", \"dual_sim\", \"four_g\", \"three_g\", \"touch_screen\", \"wifi\"]\n",
    "\n",
    "# Function to convert 1 to 'Yes' and 0 to 'No'\n",
    "def convert_to_string(x):\n",
    "    if x == 1:\n",
    "        return 'Yes'\n",
    "    elif x == 0:\n",
    "        return 'No'\n",
    "    return x  # Return as is if it's neither 1 nor 0\n",
    "\n",
    "# Apply the function to each column in columns_to_change\n",
    "for col in columns_to_change:\n",
    "    df_1[col] = df_1[col].apply(convert_to_string)\n",
    "\n",
    "# Display the first few rows of the DataFrame to confirm changes\n",
    "print(df_1.head())"
   ]
  },
  {
   "cell_type": "code",
   "execution_count": 33,
   "id": "bf3b8a58",
   "metadata": {},
   "outputs": [],
   "source": [
    "# Convert each specified column to string data type\n",
    "for col in columns_to_change:\n",
    "    df_1[col] = df_1[col].astype(\"string\")"
   ]
  },
  {
   "cell_type": "code",
   "execution_count": 34,
   "id": "4b8d7ec7",
   "metadata": {},
   "outputs": [
    {
     "name": "stdout",
     "output_type": "stream",
     "text": [
      "       date  battery_power blue  clock_speed dual_sim  fc four_g  int_memory  \\\n",
      "0  1/3/2022            842   No          2.2       No   1     No           7   \n",
      "1  1/3/2022           1021  Yes          0.5      Yes   0    Yes          53   \n",
      "2  1/3/2022            563  Yes          0.5      Yes   2    Yes          41   \n",
      "3  1/3/2022            615  Yes          2.5       No   0     No          10   \n",
      "4  1/3/2022           1821  Yes          1.2       No  13    Yes          44   \n",
      "\n",
      "   m_dep  mobile_wt  ...  px_height  px_width   ram  sc_h  sc_w  talk_time  \\\n",
      "0    0.6        188  ...         20       756  2549     9     7         19   \n",
      "1    0.7        136  ...        905      1988  2631    17     3          7   \n",
      "2    0.9        145  ...       1263      1716  2603    11     2          9   \n",
      "3    0.8        131  ...       1216      1786  2769    16     8         11   \n",
      "4    0.6        141  ...       1208      1212  1411     8     2         15   \n",
      "\n",
      "   three_g  touch_screen wifi price_range  \n",
      "0       No            No  Yes           1  \n",
      "1      Yes           Yes   No           2  \n",
      "2      Yes           Yes   No           2  \n",
      "3      Yes            No   No           2  \n",
      "4      Yes           Yes   No           1  \n",
      "\n",
      "[5 rows x 22 columns]\n"
     ]
    }
   ],
   "source": [
    "# Apply the function to each column in columns_to_change\n",
    "for col in columns_to_change:\n",
    "    df_2[col] = df_2[col].apply(convert_to_string)\n",
    "\n",
    "# Display the first few rows of the DataFrame to confirm changes\n",
    "print(df_2.head())"
   ]
  },
  {
   "cell_type": "code",
   "execution_count": 35,
   "id": "c7d76c27",
   "metadata": {},
   "outputs": [],
   "source": [
    "# Convert each specified column to string data type\n",
    "for col in columns_to_change:\n",
    "    df_2[col] = df_2[col].astype(\"string\")"
   ]
  },
  {
   "cell_type": "code",
   "execution_count": 36,
   "id": "c2eb1e23",
   "metadata": {},
   "outputs": [
    {
     "data": {
      "text/plain": [
       "date                     object\n",
       "battery_power             int64\n",
       "blue             string[python]\n",
       "clock_speed             float64\n",
       "dual_sim         string[python]\n",
       "fc                        int64\n",
       "four_g           string[python]\n",
       "int_memory                int64\n",
       "m_dep                   float64\n",
       "mobile_wt                 int64\n",
       "n_cores                   int64\n",
       "pc                        int64\n",
       "px_height                 int64\n",
       "px_width                  int64\n",
       "ram                       int64\n",
       "sc_h                      int64\n",
       "sc_w                      int64\n",
       "talk_time                 int64\n",
       "three_g          string[python]\n",
       "touch_screen     string[python]\n",
       "wifi             string[python]\n",
       "price_range               int64\n",
       "dtype: object"
      ]
     },
     "execution_count": 36,
     "metadata": {},
     "output_type": "execute_result"
    }
   ],
   "source": [
    "df_1.dtypes"
   ]
  },
  {
   "cell_type": "code",
   "execution_count": 37,
   "id": "8d1aedb3",
   "metadata": {},
   "outputs": [
    {
     "data": {
      "text/plain": [
       "date                     object\n",
       "battery_power             int64\n",
       "blue             string[python]\n",
       "clock_speed             float64\n",
       "dual_sim         string[python]\n",
       "fc                        int64\n",
       "four_g           string[python]\n",
       "int_memory                int64\n",
       "m_dep                   float64\n",
       "mobile_wt                 int64\n",
       "n_cores                   int64\n",
       "pc                        int64\n",
       "px_height                 int64\n",
       "px_width                  int64\n",
       "ram                       int64\n",
       "sc_h                      int64\n",
       "sc_w                      int64\n",
       "talk_time                 int64\n",
       "three_g          string[python]\n",
       "touch_screen     string[python]\n",
       "wifi             string[python]\n",
       "price_range               int64\n",
       "dtype: object"
      ]
     },
     "execution_count": 37,
     "metadata": {},
     "output_type": "execute_result"
    }
   ],
   "source": [
    "df_2.dtypes"
   ]
  },
  {
   "cell_type": "code",
   "execution_count": 38,
   "id": "924cc6a8",
   "metadata": {},
   "outputs": [],
   "source": [
    "# Define a mapping of numeric values to string categories\n",
    "price_mapping = {\n",
    "    0: 'low cost',\n",
    "    1: 'medium cost',\n",
    "    2: 'high cost',\n",
    "    3: 'very high cost'\n",
    "}"
   ]
  },
  {
   "cell_type": "code",
   "execution_count": 39,
   "id": "c1a8aeeb",
   "metadata": {},
   "outputs": [
    {
     "name": "stdout",
     "output_type": "stream",
     "text": [
      "        date  battery_power blue  clock_speed dual_sim  fc four_g  int_memory  \\\n",
      "0  11/2/2022           1043  Yes          1.8      Yes  14     No           5   \n",
      "1  11/2/2022            841  Yes          0.5      Yes   4    Yes          61   \n",
      "2  11/2/2022           1807  Yes          2.8       No   1     No          27   \n",
      "3  11/2/2022           1546   No          0.5      Yes  18    Yes          25   \n",
      "4  11/2/2022           1434   No          1.4       No  11    Yes          49   \n",
      "\n",
      "   m_dep  mobile_wt  ...  px_height  px_width   ram  sc_h  sc_w  talk_time  \\\n",
      "0    0.1        193  ...        226      1412  3476    12     7          2   \n",
      "1    0.8        191  ...        746       857  3895     6     0          7   \n",
      "2    0.9        186  ...       1270      1366  2396    17    10         10   \n",
      "3    0.5         96  ...        295      1752  3893    10     0          7   \n",
      "4    0.5        108  ...        749       810  1773    15     8          7   \n",
      "\n",
      "   three_g  touch_screen wifi price_range  \n",
      "0       No           Yes   No   high cost  \n",
      "1      Yes            No   No   high cost  \n",
      "2       No           Yes  Yes   high cost  \n",
      "3      Yes           Yes   No   high cost  \n",
      "4      Yes            No  Yes   high cost  \n",
      "\n",
      "[5 rows x 22 columns]\n"
     ]
    }
   ],
   "source": [
    "# Apply the mapping to the 'price_range' column\n",
    "df_1['price_range'] = df_1['price_range'].map(price_mapping)\n",
    "df_1['price_range'] = df_1['price_range'].astype(\"string\")\n",
    "\n",
    "# Verify the changes by displaying the first few rows of the DataFrame\n",
    "print(df_1.head())"
   ]
  },
  {
   "cell_type": "code",
   "execution_count": 40,
   "id": "effdf7f7",
   "metadata": {},
   "outputs": [
    {
     "name": "stdout",
     "output_type": "stream",
     "text": [
      "       date  battery_power blue  clock_speed dual_sim  fc four_g  int_memory  \\\n",
      "0  1/3/2022            842   No          2.2       No   1     No           7   \n",
      "1  1/3/2022           1021  Yes          0.5      Yes   0    Yes          53   \n",
      "2  1/3/2022            563  Yes          0.5      Yes   2    Yes          41   \n",
      "3  1/3/2022            615  Yes          2.5       No   0     No          10   \n",
      "4  1/3/2022           1821  Yes          1.2       No  13    Yes          44   \n",
      "\n",
      "   m_dep  mobile_wt  ...  px_height  px_width   ram  sc_h  sc_w  talk_time  \\\n",
      "0    0.6        188  ...         20       756  2549     9     7         19   \n",
      "1    0.7        136  ...        905      1988  2631    17     3          7   \n",
      "2    0.9        145  ...       1263      1716  2603    11     2          9   \n",
      "3    0.8        131  ...       1216      1786  2769    16     8         11   \n",
      "4    0.6        141  ...       1208      1212  1411     8     2         15   \n",
      "\n",
      "   three_g  touch_screen wifi  price_range  \n",
      "0       No            No  Yes  medium cost  \n",
      "1      Yes           Yes   No    high cost  \n",
      "2      Yes           Yes   No    high cost  \n",
      "3      Yes            No   No    high cost  \n",
      "4      Yes           Yes   No  medium cost  \n",
      "\n",
      "[5 rows x 22 columns]\n"
     ]
    }
   ],
   "source": [
    "# Apply the mapping to the 'price_range' column\n",
    "df_2['price_range'] = df_2['price_range'].map(price_mapping)\n",
    "df_2['price_range'] = df_2['price_range'].astype(\"string\")\n",
    "\n",
    "# Verify the changes by displaying the first few rows of the DataFrame\n",
    "print(df_2.head())"
   ]
  },
  {
   "cell_type": "code",
   "execution_count": 46,
   "id": "70d5a387",
   "metadata": {},
   "outputs": [
    {
     "data": {
      "text/plain": [
       "date                     object\n",
       "battery_power             int64\n",
       "blue             string[python]\n",
       "clock_speed             float64\n",
       "dual_sim         string[python]\n",
       "fc                        int64\n",
       "four_g           string[python]\n",
       "int_memory                int64\n",
       "m_dep                   float64\n",
       "mobile_wt                 int64\n",
       "n_cores                   int64\n",
       "pc                        int64\n",
       "px_height                 int64\n",
       "px_width                  int64\n",
       "ram                       int64\n",
       "sc_h                      int64\n",
       "sc_w                      int64\n",
       "talk_time                 int64\n",
       "three_g          string[python]\n",
       "touch_screen     string[python]\n",
       "wifi             string[python]\n",
       "price_range      string[python]\n",
       "dtype: object"
      ]
     },
     "execution_count": 46,
     "metadata": {},
     "output_type": "execute_result"
    }
   ],
   "source": [
    "df_1.dtypes"
   ]
  },
  {
   "cell_type": "code",
   "execution_count": 47,
   "id": "a30e3d2c",
   "metadata": {},
   "outputs": [
    {
     "data": {
      "text/plain": [
       "date                     object\n",
       "battery_power             int64\n",
       "blue             string[python]\n",
       "clock_speed             float64\n",
       "dual_sim         string[python]\n",
       "fc                        int64\n",
       "four_g           string[python]\n",
       "int_memory                int64\n",
       "m_dep                   float64\n",
       "mobile_wt                 int64\n",
       "n_cores                   int64\n",
       "pc                        int64\n",
       "px_height                 int64\n",
       "px_width                  int64\n",
       "ram                       int64\n",
       "sc_h                      int64\n",
       "sc_w                      int64\n",
       "talk_time                 int64\n",
       "three_g          string[python]\n",
       "touch_screen     string[python]\n",
       "wifi             string[python]\n",
       "price_range      string[python]\n",
       "dtype: object"
      ]
     },
     "execution_count": 47,
     "metadata": {},
     "output_type": "execute_result"
    }
   ],
   "source": [
    "df_2.dtypes"
   ]
  },
  {
   "cell_type": "markdown",
   "id": "53678fbd",
   "metadata": {},
   "source": [
    "Save the files to csv files"
   ]
  },
  {
   "cell_type": "code",
   "execution_count": 48,
   "id": "635580a6",
   "metadata": {},
   "outputs": [],
   "source": [
    "# Save the DataFrame to a CSV file\n",
    "df_1.to_csv(\"mobile_price_1.csv\", index=False)  # Set index=False if you don't want to save the index as a column in your CSV"
   ]
  },
  {
   "cell_type": "code",
   "execution_count": 49,
   "id": "9b711f3d",
   "metadata": {},
   "outputs": [],
   "source": [
    "# Save the DataFrame to a CSV file\n",
    "df_2.to_csv(\"mobile_price_2.csv\", index=False)  # Set index=False if you don't want to save the index as a column in your CSV"
   ]
  }
 ],
 "metadata": {
  "kernelspec": {
   "display_name": "Python 3 (ipykernel)",
   "language": "python",
   "name": "python3"
  },
  "language_info": {
   "codemirror_mode": {
    "name": "ipython",
    "version": 3
   },
   "file_extension": ".py",
   "mimetype": "text/x-python",
   "name": "python",
   "nbconvert_exporter": "python",
   "pygments_lexer": "ipython3",
   "version": "3.10.11"
  }
 },
 "nbformat": 4,
 "nbformat_minor": 5
}
